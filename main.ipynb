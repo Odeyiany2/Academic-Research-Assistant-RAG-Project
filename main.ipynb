{
 "cells": [
  {
   "cell_type": "markdown",
   "metadata": {},
   "source": [
    "## **Necessary Libraries**"
   ]
  },
  {
   "cell_type": "code",
   "execution_count": null,
   "metadata": {},
   "outputs": [],
   "source": [
    "% pip install -q langchain langchain-community \n",
    "% pip install pypdf2 pypdf \n",
    "% pip install langchain-groq langchain-openai sentence_transformers "
   ]
  },
  {
   "cell_type": "code",
   "execution_count": null,
   "metadata": {},
   "outputs": [],
   "source": []
  },
  {
   "cell_type": "code",
   "execution_count": null,
   "metadata": {},
   "outputs": [],
   "source": [
    "import os\n",
    "import groq\n",
    "from dotenv import load_dotenv\n",
    "load_dotenv()\n"
   ]
  },
  {
   "cell_type": "code",
   "execution_count": null,
   "metadata": {},
   "outputs": [],
   "source": []
  },
  {
   "cell_type": "code",
   "execution_count": null,
   "metadata": {},
   "outputs": [],
   "source": []
  },
  {
   "cell_type": "code",
   "execution_count": null,
   "metadata": {},
   "outputs": [],
   "source": []
  },
  {
   "cell_type": "code",
   "execution_count": null,
   "metadata": {},
   "outputs": [],
   "source": [
    "class ChatBot():\n",
    "    # Set GRO_API_KEY = \"your api key\" in the .env file, then load it below\n",
    "    GROQ_API_KEY = os.environ.get(\"GROQ_API_KEY\")\n",
    "    client = groq.Groq(api_key=GROQ_API_KEY)\n",
    "    query:str\n",
    "    output:str = \"\"\n",
    "    models = [\n",
    "    \"llama-3.1-70b-versatile\",\n",
    "    \"gemini-1.5-pro-001\",\n",
    "    \"mistral-large@2407\",\n",
    "    \"claude-3-opus@20240229\",\n",
    "    \"claude-3-5-sonnet@20240620\"\n",
    "]\n",
    "    sys_prompt = f\"\"\"You are an intelligent generative academic research assistant. As an expert in trained on business and finance knowlegde base, \\\n",
    "                        provide to the best of your ability response to my query using the most recent information\"\"\""
   ]
  }
 ],
 "metadata": {
  "kernelspec": {
   "display_name": "venv",
   "language": "python",
   "name": "python3"
  },
  "language_info": {
   "name": "python",
   "version": "3.12.5"
  }
 },
 "nbformat": 4,
 "nbformat_minor": 2
}
